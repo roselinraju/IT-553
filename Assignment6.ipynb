{
 "cells": [
  {
   "cell_type": "code",
   "execution_count": 14,
   "metadata": {},
   "outputs": [
    {
     "name": "stdout",
     "output_type": "stream",
     "text": [
      "Hello, Raj. Your Employee ID is 4120605 , and your email address is gnanarajpd@gmail.com. Your address is 41710 Manor Park Dr 43 Novi MI 48375\n"
     ]
    },
    {
     "ename": "",
     "evalue": "",
     "output_type": "error",
     "traceback": [
      "\u001b[1;31mThe Kernel crashed while executing code in the the current cell or a previous cell. Please review the code in the cell(s) to identify a possible cause of the failure. Click <a href='https://aka.ms/vscodeJupyterKernelCrash'>here</a> for more info. View Jupyter <a href='command:jupyter.viewOutput'>log</a> for further details."
     ]
    }
   ],
   "source": [
    "try:\n",
    "    # Taking the input of EmployeeId\n",
    "    EmployeeId = input(\"Enter EmployeeId: \")\n",
    "    # Checking whether the length of the Id is not exceeding 7\n",
    "    if len(EmployeeId) > 7:\n",
    "        exit()\n",
    "\n",
    "    # Typecasting EmployeeId to number\n",
    "    EmployeeId = int(EmployeeId)\n",
    "\n",
    "    # Taking the input of EmployeeName\n",
    "    EmployeeName = input(\"Enter EmployeeName: \")\n",
    "    # Checking whether it contains only lower and upper case letters or not\n",
    "    if not EmployeeName.isalpha():\n",
    "        exit()\n",
    "\n",
    "    # Taking the input of EmployeeMail\n",
    "    EmployeeMail = input(\"Enter EmployeeMail: \")\n",
    "    # Checking whether mail contains any special characters\n",
    "    temp = EmployeeMail.replace('@', '').replace('.', '')\n",
    "    # Checking whether there are any invalid special characters\n",
    "    if not temp.isalnum():\n",
    "        exit()\n",
    "\n",
    "    try:\n",
    "        # Taking the input of Address\n",
    "        EmployeeAddress = input(\"Enter Address: \")\n",
    "        # Checking whether the Address contains only alphanumeric characters or not\n",
    "        if not EmployeeAddress.isalnum():\n",
    "            exit()\n",
    "\n",
    "        # Printing the output\n",
    "        print(\"Hello, \" + EmployeeName, end=\". \")\n",
    "        print(\"Your Employee ID is \" + str(EmployeeId), end=\" \")\n",
    "        print(\", and your email address is \" + EmployeeMail, end=\". \")\n",
    "        print(\"Your address is \" + EmployeeAddress)\n",
    "\n",
    "    except:\n",
    "        # If address not provided then printing the output\n",
    "        print(\"Hello, \" + EmployeeName, end=\". \")\n",
    "        print(\"Your Employee ID is \" + str(EmployeeId), end=\" \")\n",
    "        print(\", and your email address is \" + EmployeeMail, end=\". \")\n",
    "        print(\"You did not provide an address.\")\n",
    "\n",
    "except Exception as e:\n",
    "    # If anything invalid happens, print the error message\n",
    "    print(\"An error occurred:\", str(e))\n",
    "    exit()\n",
    "\n",
    "\n"
   ]
  },
  {
   "cell_type": "code",
   "execution_count": null,
   "metadata": {},
   "outputs": [],
   "source": []
  }
 ],
 "metadata": {
  "kernelspec": {
   "display_name": "Python 3",
   "language": "python",
   "name": "python3"
  },
  "language_info": {
   "codemirror_mode": {
    "name": "ipython",
    "version": 3
   },
   "file_extension": ".py",
   "mimetype": "text/x-python",
   "name": "python",
   "nbconvert_exporter": "python",
   "pygments_lexer": "ipython3",
   "version": "3.12.0"
  }
 },
 "nbformat": 4,
 "nbformat_minor": 2
}

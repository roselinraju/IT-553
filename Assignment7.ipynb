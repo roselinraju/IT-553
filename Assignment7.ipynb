{
 "cells": [
  {
   "cell_type": "code",
   "execution_count": 15,
   "metadata": {},
   "outputs": [
    {
     "name": "stdout",
     "output_type": "stream",
     "text": [
      "Hello, Raj. Your employee ID is 41032, and your email address is gnanarajpd@gmail.com. Your address is 41710 Manor Park Dr Novi 48375\n",
      "Hello, Rose. Your employee ID is 4125, and your email address is roselinraju26@gmail.com. Your address is 41710 Manor park dr Novi 48375\n"
     ]
    },
    {
     "ename": "",
     "evalue": "",
     "output_type": "error",
     "traceback": [
      "\u001b[1;31mThe Kernel crashed while executing code in the the current cell or a previous cell. Please review the code in the cell(s) to identify a possible cause of the failure. Click <a href='https://aka.ms/vscodeJupyterKernelCrash'>here</a> for more info. View Jupyter <a href='command:jupyter.viewOutput'>log</a> for further details."
     ]
    }
   ],
   "source": [
    "import json\n",
    "\n",
    "def readEmployee():\n",
    "    # creating employee ID\n",
    "    EmployeeID = input(\"Enter Employee ID: \")\n",
    "\n",
    "    # checking length to make sure it's not above 7\n",
    "    if len(EmployeeID) > 7:\n",
    "        exit()\n",
    "\n",
    "    # typecasting EmployeeId to number\n",
    "    EmployeeID = int(EmployeeID)\n",
    "\n",
    "    # Taking the input of EmployeeName\n",
    "    EmployeeName = input(\"Enter Employee Name: \")\n",
    "\n",
    "    # checking whether it contains only Lower and upper case letters or not\n",
    "    if not EmployeeName.isalpha():\n",
    "        exit()\n",
    "\n",
    "    # Taking the input of EmployeeMail\n",
    "    EmployeeMail = input(\"Enter Employee Mail: \")\n",
    "\n",
    "    # Checking whether address has any special characters\n",
    "    if not EmployeeMail.isalnum():\n",
    "        temp = EmployeeMail\n",
    "        # removing the valid characters\n",
    "        temp = temp.replace('@', '')\n",
    "        temp = temp.replace('.', '')\n",
    "        # checking for invalid character\n",
    "        if not temp.isalnum():\n",
    "            exit()\n",
    "\n",
    "    # Taking the input of Address\n",
    "    EmployeeAddress = input(\"Enter Employee Address: \")\n",
    "\n",
    "    # checking whether the Address contains only alphanumeric characters or not\n",
    "    if not (EmployeeAddress.isalnum() or len(EmployeeAddress) == 0):\n",
    "        exit()\n",
    "\n",
    "    Employee = {\"ID\": EmployeeID, \"Name\": EmployeeName, \"Mail\": EmployeeMail, \"Address\": EmployeeAddress}\n",
    "    return Employee\n",
    "\n",
    "def printEmployee(Employee):\n",
    "    # printing the output\n",
    "    print(\"Hello, \" + Employee[\"Name\"], end=\". \")\n",
    "    print(\"Your employee ID is \" + str(Employee[\"ID\"]), end=\"\")\n",
    "    print(\", and your email address is \" + Employee[\"Mail\"], end=\". \")\n",
    "    if len(Employee[\"Address\"]) != 0:\n",
    "        print(\"Your address is \" + Employee[\"Address\"])\n",
    "    else:\n",
    "        # if address not provided then printing the output\n",
    "        print(\"You did not provide an address.\")\n",
    "\n",
    "def writeToFile(EmployeeData):\n",
    "    \"\"\"\n",
    "    Writes all the EmployeeData to Json file 'JsonFile.json'\n",
    "    \"\"\"\n",
    "    with open(\"JsonFile.json\", \"w+\") as file:\n",
    "        jsonObject = json.dumps(EmployeeData, indent=4)\n",
    "        file.write(jsonObject)\n",
    "\n",
    "def main():\n",
    "    # List to store employee data\n",
    "    Employee_list = []\n",
    "\n",
    "    # Loops as long as the user wants to add more employees\n",
    "    while True:\n",
    "        # Reads employee\n",
    "        employee = readEmployee()\n",
    "        # Appends the employee to the list\n",
    "        Employee_list.append(employee)\n",
    "        # Prints employee\n",
    "        printEmployee(employee)\n",
    "        # Reads choice from the employee to add another employee\n",
    "        choice = input(\"Press 'y' to enter another employee: \")\n",
    "        if choice.lower() != 'y':\n",
    "            break\n",
    "\n",
    "    # Writes employee data to json file\n",
    "    writeToFile(Employee_list)\n",
    "\n",
    "if __name__ == \"__main__\":\n",
    "    main()\n"
   ]
  },
  {
   "cell_type": "code",
   "execution_count": null,
   "metadata": {},
   "outputs": [],
   "source": []
  }
 ],
 "metadata": {
  "kernelspec": {
   "display_name": "Python 3",
   "language": "python",
   "name": "python3"
  },
  "language_info": {
   "codemirror_mode": {
    "name": "ipython",
    "version": 3
   },
   "file_extension": ".py",
   "mimetype": "text/x-python",
   "name": "python",
   "nbconvert_exporter": "python",
   "pygments_lexer": "ipython3",
   "version": "3.12.0"
  }
 },
 "nbformat": 4,
 "nbformat_minor": 2
}
